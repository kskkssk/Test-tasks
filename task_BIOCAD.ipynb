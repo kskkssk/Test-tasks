{
  "cells": [
    {
      "cell_type": "markdown",
      "metadata": {
        "id": "ieaHrxihIoFP"
      },
      "source": [
        "<center style=\"font-size: 26px\"> <b>Проверка уровня знаний Python</b></center>"
      ]
    },
    {
      "cell_type": "code",
      "execution_count": null,
      "metadata": {
        "id": "h34iSq10IoFX"
      },
      "outputs": [],
      "source": [
        "# обеспечиваем совместимость с Python 2 и 3\n",
        "from __future__ import (absolute_import, division, print_function, unicode_literals)\n",
        "\n",
        "# отключаем предупреждения дистрибутива Anaconda\n",
        "import warnings\n",
        "warnings.simplefilter('ignore')"
      ]
    },
    {
      "cell_type": "markdown",
      "metadata": {
        "id": "NCD6fdJTIoFa"
      },
      "source": [
        "**Описание датасета:**   \n",
        "[Датасет вакансий с платформы HH.ru на Kaggle.com](https://www.kaggle.com/datasets/pavfedotov/heaadhunter-vacancies?resource=download&select=df2021-08-03.csv)\n",
        "\n",
        "Нужный файл - df2021-08-03.csv.\n",
        "\n",
        "- *vacancy* - наименование вакансии\n",
        "- *url* - ссылка на вакансию\n",
        "- *created* - дата и время создания\n",
        "- *has_test* - наличие тестового задания в вакансии\n",
        "- *salary_from* - нижняя граница значения заработной платы\n",
        "- *salary_to* - верхняя граница значения заработной платы\n",
        "- *currency* - валюта заработной платы\n",
        "- *experience* - требуемый опыт\n",
        "- *schedule* - тип рабочего графика\n",
        "- *skills* - требуемые навыки\n",
        "- *employer* - наименование работодателя\n",
        "- *area* - наименование города\n",
        "- *description* - описание вакансии"
      ]
    },
    {
      "cell_type": "markdown",
      "metadata": {
        "id": "sZbT2RhOIoFd"
      },
      "source": [
        "#### Загрузите датасет"
      ]
    },
    {
      "cell_type": "code",
      "execution_count": null,
      "metadata": {
        "id": "_W4_9WSU9LFY"
      },
      "outputs": [],
      "source": [
        "import pandas as pd"
      ]
    },
    {
      "cell_type": "code",
      "execution_count": null,
      "metadata": {
        "id": "z-wS3b-XIoFe"
      },
      "outputs": [],
      "source": [
        "data = pd.read_csv(\"df2021-08-03.csv\")\n"
      ]
    },
    {
      "cell_type": "code",
      "execution_count": null,
      "metadata": {
        "id": "k6EWojxl9cMU",
        "colab": {
          "base_uri": "https://localhost:8080/",
          "height": 538
        },
        "outputId": "c23e686c-0da8-4744-b926-157fde7ed848"
      },
      "outputs": [
        {
          "output_type": "execute_result",
          "data": {
            "text/plain": [
              "                                             vacancy  \\\n",
              "0              Backend/Full-stack developer (python)   \n",
              "1  Бэкенд-разработчик (Python) / Middle Python / ...   \n",
              "2       Fullstack Middle Python (Django) / VueJS Dev   \n",
              "3                                   Python Developer   \n",
              "4                             QA Automation (Python)   \n",
              "\n",
              "                                                 url  \\\n",
              "0  https://hh.ru/applicant/vacancy_response?vacan...   \n",
              "1  https://hh.ru/applicant/vacancy_response?vacan...   \n",
              "2  https://hh.ru/applicant/vacancy_response?vacan...   \n",
              "3  https://hh.ru/applicant/vacancy_response?vacan...   \n",
              "4  https://hh.ru/applicant/vacancy_response?vacan...   \n",
              "\n",
              "                    created  has_test  salary_from  salary_to currency  \\\n",
              "0  2021-08-01T13:02:48+0300     False     120000.0        NaN      RUR   \n",
              "1  2021-07-09T08:13:01+0300     False     150000.0   220000.0      RUR   \n",
              "2  2021-07-21T15:24:16+0300     False          NaN        NaN      NaN   \n",
              "3  2021-07-28T12:57:57+0300     False          NaN        NaN      NaN   \n",
              "4  2021-07-31T17:10:49+0300     False          NaN        NaN      NaN   \n",
              "\n",
              "           experience          schedule  \\\n",
              "0  От 1 года до 3 лет     Гибкий график   \n",
              "1       От 3 до 6 лет  Удаленная работа   \n",
              "2  От 1 года до 3 лет       Полный день   \n",
              "3       От 3 до 6 лет  Удаленная работа   \n",
              "4  От 1 года до 3 лет  Удаленная работа   \n",
              "\n",
              "                                              skills             employer  \\\n",
              "0                     Python;PostgreSQL;Linux;Flask;               ATI.SU   \n",
              "1    Python;Git;MongoDB;Redis;Design Patterns;Flask;  ЮТэйр, Авиакомпания   \n",
              "2  Python;Git;Django Framework;PostgreSQL;Linux;V...                 КРОК   \n",
              "3                       Python;Django Framework;CSS;             Mad Devs   \n",
              "4                    Python;Pytest;Ansible;Selenium;    Аренадата Софтвер   \n",
              "\n",
              "                        area  \\\n",
              "0            Санкт-Петербург   \n",
              "1  Киров (Кировская область)   \n",
              "2                     Москва   \n",
              "3                  Краснодар   \n",
              "4                     Москва   \n",
              "\n",
              "                                         description  \n",
              "0  Привет! Мы ATI.SU ― крупнейшая в России компан...  \n",
              "1  Utair - российская авиакомпания. Мы летаем по ...  \n",
              "2  В команду, которая занимается разработкой инст...  \n",
              "3  Mad Devs - full stack команда для разработки и...  \n",
              "4  Arenadata — динамично развивающаяся компания, ...  "
            ],
            "text/html": [
              "\n",
              "  <div id=\"df-7f536dc2-034b-46ba-888b-05e0e9895ec9\" class=\"colab-df-container\">\n",
              "    <div>\n",
              "<style scoped>\n",
              "    .dataframe tbody tr th:only-of-type {\n",
              "        vertical-align: middle;\n",
              "    }\n",
              "\n",
              "    .dataframe tbody tr th {\n",
              "        vertical-align: top;\n",
              "    }\n",
              "\n",
              "    .dataframe thead th {\n",
              "        text-align: right;\n",
              "    }\n",
              "</style>\n",
              "<table border=\"1\" class=\"dataframe\">\n",
              "  <thead>\n",
              "    <tr style=\"text-align: right;\">\n",
              "      <th></th>\n",
              "      <th>vacancy</th>\n",
              "      <th>url</th>\n",
              "      <th>created</th>\n",
              "      <th>has_test</th>\n",
              "      <th>salary_from</th>\n",
              "      <th>salary_to</th>\n",
              "      <th>currency</th>\n",
              "      <th>experience</th>\n",
              "      <th>schedule</th>\n",
              "      <th>skills</th>\n",
              "      <th>employer</th>\n",
              "      <th>area</th>\n",
              "      <th>description</th>\n",
              "    </tr>\n",
              "  </thead>\n",
              "  <tbody>\n",
              "    <tr>\n",
              "      <th>0</th>\n",
              "      <td>Backend/Full-stack developer (python)</td>\n",
              "      <td>https://hh.ru/applicant/vacancy_response?vacan...</td>\n",
              "      <td>2021-08-01T13:02:48+0300</td>\n",
              "      <td>False</td>\n",
              "      <td>120000.0</td>\n",
              "      <td>NaN</td>\n",
              "      <td>RUR</td>\n",
              "      <td>От 1 года до 3 лет</td>\n",
              "      <td>Гибкий график</td>\n",
              "      <td>Python;PostgreSQL;Linux;Flask;</td>\n",
              "      <td>ATI.SU</td>\n",
              "      <td>Санкт-Петербург</td>\n",
              "      <td>Привет! Мы ATI.SU ― крупнейшая в России компан...</td>\n",
              "    </tr>\n",
              "    <tr>\n",
              "      <th>1</th>\n",
              "      <td>Бэкенд-разработчик (Python) / Middle Python / ...</td>\n",
              "      <td>https://hh.ru/applicant/vacancy_response?vacan...</td>\n",
              "      <td>2021-07-09T08:13:01+0300</td>\n",
              "      <td>False</td>\n",
              "      <td>150000.0</td>\n",
              "      <td>220000.0</td>\n",
              "      <td>RUR</td>\n",
              "      <td>От 3 до 6 лет</td>\n",
              "      <td>Удаленная работа</td>\n",
              "      <td>Python;Git;MongoDB;Redis;Design Patterns;Flask;</td>\n",
              "      <td>ЮТэйр, Авиакомпания</td>\n",
              "      <td>Киров (Кировская область)</td>\n",
              "      <td>Utair - российская авиакомпания. Мы летаем по ...</td>\n",
              "    </tr>\n",
              "    <tr>\n",
              "      <th>2</th>\n",
              "      <td>Fullstack Middle Python (Django) / VueJS Dev</td>\n",
              "      <td>https://hh.ru/applicant/vacancy_response?vacan...</td>\n",
              "      <td>2021-07-21T15:24:16+0300</td>\n",
              "      <td>False</td>\n",
              "      <td>NaN</td>\n",
              "      <td>NaN</td>\n",
              "      <td>NaN</td>\n",
              "      <td>От 1 года до 3 лет</td>\n",
              "      <td>Полный день</td>\n",
              "      <td>Python;Git;Django Framework;PostgreSQL;Linux;V...</td>\n",
              "      <td>КРОК</td>\n",
              "      <td>Москва</td>\n",
              "      <td>В команду, которая занимается разработкой инст...</td>\n",
              "    </tr>\n",
              "    <tr>\n",
              "      <th>3</th>\n",
              "      <td>Python Developer</td>\n",
              "      <td>https://hh.ru/applicant/vacancy_response?vacan...</td>\n",
              "      <td>2021-07-28T12:57:57+0300</td>\n",
              "      <td>False</td>\n",
              "      <td>NaN</td>\n",
              "      <td>NaN</td>\n",
              "      <td>NaN</td>\n",
              "      <td>От 3 до 6 лет</td>\n",
              "      <td>Удаленная работа</td>\n",
              "      <td>Python;Django Framework;CSS;</td>\n",
              "      <td>Mad Devs</td>\n",
              "      <td>Краснодар</td>\n",
              "      <td>Mad Devs - full stack команда для разработки и...</td>\n",
              "    </tr>\n",
              "    <tr>\n",
              "      <th>4</th>\n",
              "      <td>QA Automation (Python)</td>\n",
              "      <td>https://hh.ru/applicant/vacancy_response?vacan...</td>\n",
              "      <td>2021-07-31T17:10:49+0300</td>\n",
              "      <td>False</td>\n",
              "      <td>NaN</td>\n",
              "      <td>NaN</td>\n",
              "      <td>NaN</td>\n",
              "      <td>От 1 года до 3 лет</td>\n",
              "      <td>Удаленная работа</td>\n",
              "      <td>Python;Pytest;Ansible;Selenium;</td>\n",
              "      <td>Аренадата Софтвер</td>\n",
              "      <td>Москва</td>\n",
              "      <td>Arenadata — динамично развивающаяся компания, ...</td>\n",
              "    </tr>\n",
              "  </tbody>\n",
              "</table>\n",
              "</div>\n",
              "    <div class=\"colab-df-buttons\">\n",
              "\n",
              "  <div class=\"colab-df-container\">\n",
              "    <button class=\"colab-df-convert\" onclick=\"convertToInteractive('df-7f536dc2-034b-46ba-888b-05e0e9895ec9')\"\n",
              "            title=\"Convert this dataframe to an interactive table.\"\n",
              "            style=\"display:none;\">\n",
              "\n",
              "  <svg xmlns=\"http://www.w3.org/2000/svg\" height=\"24px\" viewBox=\"0 -960 960 960\">\n",
              "    <path d=\"M120-120v-720h720v720H120Zm60-500h600v-160H180v160Zm220 220h160v-160H400v160Zm0 220h160v-160H400v160ZM180-400h160v-160H180v160Zm440 0h160v-160H620v160ZM180-180h160v-160H180v160Zm440 0h160v-160H620v160Z\"/>\n",
              "  </svg>\n",
              "    </button>\n",
              "\n",
              "  <style>\n",
              "    .colab-df-container {\n",
              "      display:flex;\n",
              "      gap: 12px;\n",
              "    }\n",
              "\n",
              "    .colab-df-convert {\n",
              "      background-color: #E8F0FE;\n",
              "      border: none;\n",
              "      border-radius: 50%;\n",
              "      cursor: pointer;\n",
              "      display: none;\n",
              "      fill: #1967D2;\n",
              "      height: 32px;\n",
              "      padding: 0 0 0 0;\n",
              "      width: 32px;\n",
              "    }\n",
              "\n",
              "    .colab-df-convert:hover {\n",
              "      background-color: #E2EBFA;\n",
              "      box-shadow: 0px 1px 2px rgba(60, 64, 67, 0.3), 0px 1px 3px 1px rgba(60, 64, 67, 0.15);\n",
              "      fill: #174EA6;\n",
              "    }\n",
              "\n",
              "    .colab-df-buttons div {\n",
              "      margin-bottom: 4px;\n",
              "    }\n",
              "\n",
              "    [theme=dark] .colab-df-convert {\n",
              "      background-color: #3B4455;\n",
              "      fill: #D2E3FC;\n",
              "    }\n",
              "\n",
              "    [theme=dark] .colab-df-convert:hover {\n",
              "      background-color: #434B5C;\n",
              "      box-shadow: 0px 1px 3px 1px rgba(0, 0, 0, 0.15);\n",
              "      filter: drop-shadow(0px 1px 2px rgba(0, 0, 0, 0.3));\n",
              "      fill: #FFFFFF;\n",
              "    }\n",
              "  </style>\n",
              "\n",
              "    <script>\n",
              "      const buttonEl =\n",
              "        document.querySelector('#df-7f536dc2-034b-46ba-888b-05e0e9895ec9 button.colab-df-convert');\n",
              "      buttonEl.style.display =\n",
              "        google.colab.kernel.accessAllowed ? 'block' : 'none';\n",
              "\n",
              "      async function convertToInteractive(key) {\n",
              "        const element = document.querySelector('#df-7f536dc2-034b-46ba-888b-05e0e9895ec9');\n",
              "        const dataTable =\n",
              "          await google.colab.kernel.invokeFunction('convertToInteractive',\n",
              "                                                    [key], {});\n",
              "        if (!dataTable) return;\n",
              "\n",
              "        const docLinkHtml = 'Like what you see? Visit the ' +\n",
              "          '<a target=\"_blank\" href=https://colab.research.google.com/notebooks/data_table.ipynb>data table notebook</a>'\n",
              "          + ' to learn more about interactive tables.';\n",
              "        element.innerHTML = '';\n",
              "        dataTable['output_type'] = 'display_data';\n",
              "        await google.colab.output.renderOutput(dataTable, element);\n",
              "        const docLink = document.createElement('div');\n",
              "        docLink.innerHTML = docLinkHtml;\n",
              "        element.appendChild(docLink);\n",
              "      }\n",
              "    </script>\n",
              "  </div>\n",
              "\n",
              "\n",
              "<div id=\"df-ddbdf26e-bf52-4ca0-b677-04cbdf0cd8fb\">\n",
              "  <button class=\"colab-df-quickchart\" onclick=\"quickchart('df-ddbdf26e-bf52-4ca0-b677-04cbdf0cd8fb')\"\n",
              "            title=\"Suggest charts\"\n",
              "            style=\"display:none;\">\n",
              "\n",
              "<svg xmlns=\"http://www.w3.org/2000/svg\" height=\"24px\"viewBox=\"0 0 24 24\"\n",
              "     width=\"24px\">\n",
              "    <g>\n",
              "        <path d=\"M19 3H5c-1.1 0-2 .9-2 2v14c0 1.1.9 2 2 2h14c1.1 0 2-.9 2-2V5c0-1.1-.9-2-2-2zM9 17H7v-7h2v7zm4 0h-2V7h2v10zm4 0h-2v-4h2v4z\"/>\n",
              "    </g>\n",
              "</svg>\n",
              "  </button>\n",
              "\n",
              "<style>\n",
              "  .colab-df-quickchart {\n",
              "      --bg-color: #E8F0FE;\n",
              "      --fill-color: #1967D2;\n",
              "      --hover-bg-color: #E2EBFA;\n",
              "      --hover-fill-color: #174EA6;\n",
              "      --disabled-fill-color: #AAA;\n",
              "      --disabled-bg-color: #DDD;\n",
              "  }\n",
              "\n",
              "  [theme=dark] .colab-df-quickchart {\n",
              "      --bg-color: #3B4455;\n",
              "      --fill-color: #D2E3FC;\n",
              "      --hover-bg-color: #434B5C;\n",
              "      --hover-fill-color: #FFFFFF;\n",
              "      --disabled-bg-color: #3B4455;\n",
              "      --disabled-fill-color: #666;\n",
              "  }\n",
              "\n",
              "  .colab-df-quickchart {\n",
              "    background-color: var(--bg-color);\n",
              "    border: none;\n",
              "    border-radius: 50%;\n",
              "    cursor: pointer;\n",
              "    display: none;\n",
              "    fill: var(--fill-color);\n",
              "    height: 32px;\n",
              "    padding: 0;\n",
              "    width: 32px;\n",
              "  }\n",
              "\n",
              "  .colab-df-quickchart:hover {\n",
              "    background-color: var(--hover-bg-color);\n",
              "    box-shadow: 0 1px 2px rgba(60, 64, 67, 0.3), 0 1px 3px 1px rgba(60, 64, 67, 0.15);\n",
              "    fill: var(--button-hover-fill-color);\n",
              "  }\n",
              "\n",
              "  .colab-df-quickchart-complete:disabled,\n",
              "  .colab-df-quickchart-complete:disabled:hover {\n",
              "    background-color: var(--disabled-bg-color);\n",
              "    fill: var(--disabled-fill-color);\n",
              "    box-shadow: none;\n",
              "  }\n",
              "\n",
              "  .colab-df-spinner {\n",
              "    border: 2px solid var(--fill-color);\n",
              "    border-color: transparent;\n",
              "    border-bottom-color: var(--fill-color);\n",
              "    animation:\n",
              "      spin 1s steps(1) infinite;\n",
              "  }\n",
              "\n",
              "  @keyframes spin {\n",
              "    0% {\n",
              "      border-color: transparent;\n",
              "      border-bottom-color: var(--fill-color);\n",
              "      border-left-color: var(--fill-color);\n",
              "    }\n",
              "    20% {\n",
              "      border-color: transparent;\n",
              "      border-left-color: var(--fill-color);\n",
              "      border-top-color: var(--fill-color);\n",
              "    }\n",
              "    30% {\n",
              "      border-color: transparent;\n",
              "      border-left-color: var(--fill-color);\n",
              "      border-top-color: var(--fill-color);\n",
              "      border-right-color: var(--fill-color);\n",
              "    }\n",
              "    40% {\n",
              "      border-color: transparent;\n",
              "      border-right-color: var(--fill-color);\n",
              "      border-top-color: var(--fill-color);\n",
              "    }\n",
              "    60% {\n",
              "      border-color: transparent;\n",
              "      border-right-color: var(--fill-color);\n",
              "    }\n",
              "    80% {\n",
              "      border-color: transparent;\n",
              "      border-right-color: var(--fill-color);\n",
              "      border-bottom-color: var(--fill-color);\n",
              "    }\n",
              "    90% {\n",
              "      border-color: transparent;\n",
              "      border-bottom-color: var(--fill-color);\n",
              "    }\n",
              "  }\n",
              "</style>\n",
              "\n",
              "  <script>\n",
              "    async function quickchart(key) {\n",
              "      const quickchartButtonEl =\n",
              "        document.querySelector('#' + key + ' button');\n",
              "      quickchartButtonEl.disabled = true;  // To prevent multiple clicks.\n",
              "      quickchartButtonEl.classList.add('colab-df-spinner');\n",
              "      try {\n",
              "        const charts = await google.colab.kernel.invokeFunction(\n",
              "            'suggestCharts', [key], {});\n",
              "      } catch (error) {\n",
              "        console.error('Error during call to suggestCharts:', error);\n",
              "      }\n",
              "      quickchartButtonEl.classList.remove('colab-df-spinner');\n",
              "      quickchartButtonEl.classList.add('colab-df-quickchart-complete');\n",
              "    }\n",
              "    (() => {\n",
              "      let quickchartButtonEl =\n",
              "        document.querySelector('#df-ddbdf26e-bf52-4ca0-b677-04cbdf0cd8fb button');\n",
              "      quickchartButtonEl.style.display =\n",
              "        google.colab.kernel.accessAllowed ? 'block' : 'none';\n",
              "    })();\n",
              "  </script>\n",
              "</div>\n",
              "\n",
              "    </div>\n",
              "  </div>\n"
            ],
            "application/vnd.google.colaboratory.intrinsic+json": {
              "type": "dataframe",
              "variable_name": "data",
              "summary": "{\n  \"name\": \"data\",\n  \"rows\": 1700,\n  \"fields\": [\n    {\n      \"column\": \"vacancy\",\n      \"properties\": {\n        \"dtype\": \"string\",\n        \"num_unique_values\": 884,\n        \"samples\": [\n          \"\\u0420\\u0430\\u0437\\u0440\\u0430\\u0431\\u043e\\u0442\\u0447\\u0438\\u043a Python/ Django\",\n          \"Python Backend Developer (Middle)\",\n          \"\\u041f\\u0440\\u043e\\u0433\\u0440\\u0430\\u043c\\u043c\\u0438\\u0441\\u0442-\\u0440\\u0430\\u0437\\u0440\\u0430\\u0431\\u043e\\u0442\\u0447\\u0438\\u043a (python, vue)\"\n        ],\n        \"semantic_type\": \"\",\n        \"description\": \"\"\n      }\n    },\n    {\n      \"column\": \"url\",\n      \"properties\": {\n        \"dtype\": \"string\",\n        \"num_unique_values\": 1695,\n        \"samples\": [\n          \"https://hh.ru/applicant/vacancy_response?vacancyId=45969530\",\n          \"https://hh.ru/applicant/vacancy_response?vacancyId=46460353\",\n          \"https://hh.ru/applicant/vacancy_response?vacancyId=45787740\"\n        ],\n        \"semantic_type\": \"\",\n        \"description\": \"\"\n      }\n    },\n    {\n      \"column\": \"created\",\n      \"properties\": {\n        \"dtype\": \"object\",\n        \"num_unique_values\": 1507,\n        \"samples\": [\n          \"2021-08-02T19:39:13+0300\",\n          \"2021-08-02T13:08:41+0300\",\n          \"2021-07-14T16:11:19+0300\"\n        ],\n        \"semantic_type\": \"\",\n        \"description\": \"\"\n      }\n    },\n    {\n      \"column\": \"has_test\",\n      \"properties\": {\n        \"dtype\": \"boolean\",\n        \"num_unique_values\": 2,\n        \"samples\": [\n          true,\n          false\n        ],\n        \"semantic_type\": \"\",\n        \"description\": \"\"\n      }\n    },\n    {\n      \"column\": \"salary_from\",\n      \"properties\": {\n        \"dtype\": \"number\",\n        \"std\": 62974.98415181633,\n        \"min\": 160.0,\n        \"max\": 350000.0,\n        \"num_unique_values\": 58,\n        \"samples\": [\n          120000.0,\n          170000.0\n        ],\n        \"semantic_type\": \"\",\n        \"description\": \"\"\n      }\n    },\n    {\n      \"column\": \"salary_to\",\n      \"properties\": {\n        \"dtype\": \"number\",\n        \"std\": 98279.75485317454,\n        \"min\": 250.0,\n        \"max\": 550000.0,\n        \"num_unique_values\": 56,\n        \"samples\": [\n          220000.0,\n          500000.0\n        ],\n        \"semantic_type\": \"\",\n        \"description\": \"\"\n      }\n    },\n    {\n      \"column\": \"currency\",\n      \"properties\": {\n        \"dtype\": \"category\",\n        \"num_unique_values\": 3,\n        \"samples\": [\n          \"RUR\",\n          \"EUR\"\n        ],\n        \"semantic_type\": \"\",\n        \"description\": \"\"\n      }\n    },\n    {\n      \"column\": \"experience\",\n      \"properties\": {\n        \"dtype\": \"category\",\n        \"num_unique_values\": 4,\n        \"samples\": [\n          \"\\u041e\\u0442 3 \\u0434\\u043e 6 \\u043b\\u0435\\u0442\",\n          \"\\u0411\\u043e\\u043b\\u0435\\u0435 6 \\u043b\\u0435\\u0442\"\n        ],\n        \"semantic_type\": \"\",\n        \"description\": \"\"\n      }\n    },\n    {\n      \"column\": \"schedule\",\n      \"properties\": {\n        \"dtype\": \"category\",\n        \"num_unique_values\": 4,\n        \"samples\": [\n          \"\\u0423\\u0434\\u0430\\u043b\\u0435\\u043d\\u043d\\u0430\\u044f \\u0440\\u0430\\u0431\\u043e\\u0442\\u0430\",\n          \"\\u0421\\u043c\\u0435\\u043d\\u043d\\u044b\\u0439 \\u0433\\u0440\\u0430\\u0444\\u0438\\u043a\"\n        ],\n        \"semantic_type\": \"\",\n        \"description\": \"\"\n      }\n    },\n    {\n      \"column\": \"skills\",\n      \"properties\": {\n        \"dtype\": \"string\",\n        \"num_unique_values\": 1056,\n        \"samples\": [\n          \"Python;SQL;Git;\\u041e\\u041e\\u041f;Pandas;\",\n          \"Git;Python;Linux;Docker;Kubernetes;\"\n        ],\n        \"semantic_type\": \"\",\n        \"description\": \"\"\n      }\n    },\n    {\n      \"column\": \"employer\",\n      \"properties\": {\n        \"dtype\": \"category\",\n        \"num_unique_values\": 778,\n        \"samples\": [\n          \"\\u0421\\u0423\\u042d\\u041a, \\u0421\\u0438\\u0431\\u0438\\u0440\\u0441\\u043a\\u0430\\u044f \\u0423\\u0433\\u043e\\u043b\\u044c\\u043d\\u0430\\u044f \\u042d\\u043d\\u0435\\u0440\\u0433\\u0435\\u0442\\u0438\\u0447\\u0435\\u0441\\u043a\\u0430\\u044f \\u041a\\u043e\\u043c\\u043f\\u0430\\u043d\\u0438\\u044f\",\n          \"IPONWEB Ltd (UK)\"\n        ],\n        \"semantic_type\": \"\",\n        \"description\": \"\"\n      }\n    },\n    {\n      \"column\": \"area\",\n      \"properties\": {\n        \"dtype\": \"category\",\n        \"num_unique_values\": 86,\n        \"samples\": [\n          \"\\u0410\\u043b\\u044c\\u043c\\u0435\\u0442\\u044c\\u0435\\u0432\\u0441\\u043a\",\n          \"\\u0421\\u0430\\u043d\\u043a\\u0442-\\u041f\\u0435\\u0442\\u0435\\u0440\\u0431\\u0443\\u0440\\u0433\"\n        ],\n        \"semantic_type\": \"\",\n        \"description\": \"\"\n      }\n    },\n    {\n      \"column\": \"description\",\n      \"properties\": {\n        \"dtype\": \"string\",\n        \"num_unique_values\": 1396,\n        \"samples\": [\n          \"\\u041e \\u043a\\u043e\\u043c\\u043f\\u0430\\u043d\\u0438\\u0438: \\u041c\\u044b \\u2014 \\u043a\\u043e\\u043c\\u043f\\u0430\\u043d\\u0438\\u044f Positive Technologies. \\u0412\\u043e\\u0442 \\u0443\\u0436\\u0435 18 \\u043b\\u0435\\u0442 \\u043c\\u044b \\u0437\\u0430\\u0449\\u0438\\u0449\\u0430\\u0435\\u043c \\u043e\\u0440\\u0433\\u0430\\u043d\\u0438\\u0437\\u0430\\u0446\\u0438\\u0438 \\u043e\\u0442 \\u0441\\u043e\\u0432\\u0440\\u0435\\u043c\\u0435\\u043d\\u043d\\u044b\\u0445 \\u043a\\u0438\\u0431\\u0435\\u0440\\u0443\\u0433\\u0440\\u043e\\u0437: \\u043d\\u0430\\u0445\\u043e\\u0434\\u0438\\u043c \\u0443\\u044f\\u0437\\u0432\\u0438\\u043c\\u043e\\u0441\\u0442\\u0438, \\u0440\\u0430\\u0441\\u0441\\u043b\\u0435\\u0434\\u0443\\u0435\\u043c \\u0438\\u043d\\u0446\\u0438\\u0434\\u0435\\u043d\\u0442\\u044b, \\u0440\\u0430\\u0437\\u0440\\u0430\\u0431\\u0430\\u0442\\u044b\\u0432\\u0430\\u0435\\u043c \\u0432\\u044b\\u0441\\u043e\\u043a\\u043e\\u0442\\u0435\\u0445\\u043d\\u043e\\u043b\\u043e\\u0433\\u0438\\u0447\\u043d\\u044b\\u0435 \\u0418\\u0411-\\u043f\\u0440\\u043e\\u0434\\u0443\\u043a\\u0442\\u044b \\u0438 \\u0441\\u0435\\u0440\\u0432\\u0438\\u0441\\u044b. \\u041c\\u044b \\u0441\\u043e\\u0437\\u0434\\u0430\\u043b\\u0438 \\u0431\\u043e\\u043b\\u0435\\u0435 \\u0434\\u0435\\u0441\\u044f\\u0442\\u0438 \\u043f\\u0440\\u043e\\u0434\\u0443\\u043a\\u0442\\u043e\\u0432 \\u0432 \\u043e\\u0431\\u043b\\u0430\\u0441\\u0442\\u0438 \\u043f\\u0440\\u043e\\u0442\\u0438\\u0432\\u043e\\u0434\\u0435\\u0439\\u0441\\u0442\\u0432\\u0438\\u044f \\u043a\\u0438\\u0431\\u0435\\u0440\\u0443\\u0433\\u0440\\u043e\\u0437\\u0430\\u043c \\u0438 \\u0443\\u0441\\u043f\\u0435\\u0448\\u043d\\u043e \\u043f\\u0440\\u043e\\u0434\\u0432\\u0438\\u0433\\u0430\\u0435\\u043c\\u0441\\u044f \\u043d\\u0430 \\u043c\\u0438\\u0440\\u043e\\u0432\\u043e\\u0439 \\u0440\\u044b\\u043d\\u043e\\u043a. \\u0427\\u0435\\u043c \\u043f\\u0440\\u0435\\u0434\\u0441\\u0442\\u043e\\u0438\\u0442 \\u0437\\u0430\\u043d\\u0438\\u043c\\u0430\\u0442\\u044c\\u0441\\u044f:  \\u0438\\u0441\\u043f\\u0440\\u0430\\u0432\\u043b\\u0435\\u043d\\u0438\\u0435 \\u0431\\u0430\\u0433\\u043e\\u0432 \\u0438 \\u043f\\u043e\\u0434\\u0434\\u0435\\u0440\\u0436\\u043a\\u0430 \\u043f\\u0440\\u043e\\u0434\\u0443\\u043a\\u0442\\u0430; \\u0440\\u0430\\u0437\\u0440\\u0430\\u0431\\u043e\\u0442\\u043a\\u0430 \\u043d\\u043e\\u0432\\u043e\\u0439 \\u0444\\u0443\\u043d\\u043a\\u0446\\u0438\\u043e\\u043d\\u0430\\u043b\\u044c\\u043d\\u043e\\u0441\\u0442\\u0438; \\u0443\\u0447\\u0430\\u0441\\u0442\\u0438\\u0435 \\u0432 code-review.  \\u0427\\u0442\\u043e \\u043d\\u0435\\u043e\\u0431\\u0445\\u043e\\u0434\\u0438\\u043c\\u043e \\u043a\\u0430\\u043d\\u0434\\u0438\\u0434\\u0430\\u0442\\u0443:  \\u043e\\u043f\\u044b\\u0442 \\u0440\\u0430\\u0431\\u043e\\u0442\\u044b \\u043e\\u0442 0.5 \\u0433\\u043e\\u0434\\u0430; \\u0437\\u043d\\u0430\\u043d\\u0438\\u0435 python 2/3; \\u0431\\u0430\\u0437\\u043e\\u0432\\u043e\\u0435 \\u043f\\u043e\\u043d\\u0438\\u043c\\u0430\\u043d\\u0438\\u0435 \\u0441\\u0435\\u0442\\u0435\\u0432\\u044b\\u0445 \\u043f\\u0440\\u043e\\u0442\\u043e\\u043a\\u043e\\u043b\\u043e\\u0432; \\u043e\\u043f\\u044b\\u0442 \\u0440\\u0430\\u0431\\u043e\\u0442\\u044b \\u0441 \\u0431\\u0430\\u0437\\u0430\\u043c\\u0438 \\u0434\\u0430\\u043d\\u043d\\u044b\\u0445; \\u043e\\u043f\\u044b\\u0442 \\u043f\\u043e\\u0441\\u0442\\u0440\\u043e\\u0435\\u043d\\u0438\\u0435 REST API; \\u043e\\u043f\\u044b\\u0442 \\u0440\\u0430\\u0431\\u043e\\u0442\\u044b \\u0441 git; \\u043e\\u043f\\u044b\\u0442 \\u0440\\u0430\\u0431\\u043e\\u0442\\u044b \\u0441 linux.  \\u0411\\u0443\\u0434\\u0435\\u0442 \\u043f\\u043b\\u044e\\u0441\\u043e\\u043c:  \\u043e\\u043f\\u044b\\u0442 \\u0440\\u0430\\u0431\\u043e\\u0442\\u044b \\u0441 MongoDB, ElasticSearch; \\u043e\\u043f\\u044b\\u0442 \\u0440\\u0430\\u0431\\u043e\\u0442\\u044b \\u0441 iproute2; \\u0437\\u043d\\u0430\\u043d\\u0438\\u0435 JavaScript, Angular; \\u0441\\u0441\\u044b\\u043b\\u043a\\u0430 \\u043d\\u0430 \\u0440\\u0435\\u043f\\u043e\\u0437\\u0438\\u0442\\u043e\\u0440\\u0438\\u0439 \\u0441 \\u0441\\u043e\\u0431\\u0441\\u0442\\u0432\\u0435\\u043d\\u043d\\u044b\\u043c \\u043f\\u0440\\u043e\\u0435\\u043a\\u0442\\u043e\\u043c.  \\u0427\\u0442\\u043e \\u0432\\u0437\\u0430\\u043c\\u0435\\u043d:  \\u0443\\u044e\\u0442\\u043d\\u044b\\u0439 \\u043e\\u0444\\u0438\\u0441 \\u0432 \\u0446\\u0435\\u043d\\u0442\\u0440\\u0435 \\u0433\\u043e\\u0440\\u043e\\u0434\\u0430; \\u0432\\u043e\\u0437\\u043c\\u043e\\u0436\\u043d\\u043e\\u0441\\u0442\\u044c \\u0440\\u0430\\u0431\\u043e\\u0442\\u0430\\u0442\\u044c \\u0443\\u0434\\u0430\\u043b\\u0435\\u043d\\u043d\\u043e; \\u0431\\u0435\\u043b\\u0430\\u044f \\u0437\\u0430\\u0440\\u043f\\u043b\\u0430\\u0442\\u0430; \\u0414\\u041c\\u0421 \\u0441\\u043e \\u0441\\u0442\\u043e\\u043c\\u0430\\u0442\\u043e\\u043b\\u043e\\u0433\\u0438\\u0435\\u0439; \\u0448\\u0435\\u0441\\u0442\\u044c \\u043d\\u0435\\u0434\\u0435\\u043b\\u044c \\u043e\\u043f\\u043b\\u0430\\u0447\\u0438\\u0432\\u0430\\u0435\\u043c\\u043e\\u0433\\u043e \\u043e\\u0442\\u043f\\u0443\\u0441\\u043a\\u0430; \\u043c\\u043e\\u0436\\u043d\\u043e \\u0441\\u0430\\u043c\\u043e\\u043c\\u0443 \\u0432\\u044b\\u0431\\u0440\\u0430\\u0442\\u044c, \\u0432\\u043e \\u0441\\u043a\\u043e\\u043b\\u044c\\u043a\\u043e \\u043d\\u0430\\u0447\\u043d\\u0435\\u0442\\u0441\\u044f \\u0442\\u0432\\u043e\\u0439 \\u0440\\u0430\\u0431\\u043e\\u0447\\u0438\\u0439 \\u0434\\u0435\\u043d\\u044c (\\u0441 9 \\u0434\\u043e 11); \\u0434\\u0440\\u0435\\u0441\\u0441-\\u043a\\u043e\\u0434\\u0430 \\u0443 \\u043d\\u0430\\u0441 \\u043d\\u0435\\u0442 \\u2014 \\u043c\\u044b \\u0437\\u0430 \\u0441\\u0432\\u043e\\u0431\\u043e\\u0434\\u0443 \\u0432 \\u0432\\u044b\\u0431\\u043e\\u0440\\u0435 \\u0441\\u0442\\u0438\\u043b\\u044f. \",\n          \"\\u0412 \\u0444\\u0435\\u0434\\u0435\\u0440\\u0430\\u043b\\u044c\\u043d\\u043e\\u0439 \\u0440\\u043e\\u0437\\u043d\\u0438\\u0447\\u043d\\u043e\\u0439 \\u0441\\u0435\\u0442\\u0438 &quot;\\u041b\\u0415\\u041d\\u0422\\u0410&quot; \\u043e\\u0442\\u043a\\u0440\\u044b\\u0442\\u0430 \\u0432\\u0430\\u043a\\u0430\\u043d\\u0441\\u0438\\u044f - Team Lead Python \\u041d\\u0430\\u0448\\u0430 \\u043a\\u043e\\u043c\\u0430\\u043d\\u0434\\u0430 &quot;\\u041b\\u0415\\u041d\\u0422\\u0410 \\u041e\\u041d\\u041b\\u0410\\u0419\\u041d&quot; (\\u0441\\u0435\\u0440\\u0432\\u0438\\u0441 \\u0434\\u043e\\u0441\\u0442\\u0430\\u0432\\u043a\\u0438 - https://online.lenta.com/) \\u043f\\u043e\\u044f\\u0432\\u0438\\u043b\\u0430\\u0441\\u044c \\u0432 \\u0441\\u0435\\u043d\\u0442\\u044f\\u0431\\u0440\\u0435 2019, \\u043d\\u043e \\u043c\\u044b \\u0443\\u0436\\u0435 \\u0437\\u0430\\u043f\\u0443\\u0441\\u0442\\u0438\\u043b\\u0438 \\u0441\\u0435\\u0440\\u0432\\u0438\\u0441 \\u0443\\u043b\\u044c\\u0442\\u0440\\u0430-\\u0431\\u044b\\u0441\\u0442\\u0440\\u043e\\u0439 \\u0434\\u043e\\u0441\\u0442\\u0430\\u0432\\u043a\\u0438 \\u043f\\u0440\\u043e\\u0434\\u0443\\u043a\\u0442\\u043e\\u0432 \\u0437\\u0430 15 \\u043c\\u0438\\u043d\\u0443\\u0442. \\u041c\\u044b \\u0441\\u043e\\u0441\\u0440\\u0435\\u0434\\u043e\\u0442\\u043e\\u0447\\u0435\\u043d\\u044b \\u043d\\u0430 \\u044d\\u043a\\u0441\\u043f\\u0435\\u0440\\u0438\\u043c\\u0435\\u043d\\u0442\\u0430\\u0445 \\u0441 \\u0431\\u0438\\u0437\\u043d\\u0435\\u0441-\\u043c\\u043e\\u0434\\u0435\\u043b\\u044f\\u043c\\u0438 \\u0438 \\u0437\\u0430\\u043f\\u0443\\u0441\\u043a\\u0435 \\u043d\\u043e\\u0432\\u044b\\u0445 \\u0446\\u0438\\u0444\\u0440\\u043e\\u0432\\u044b\\u0445 \\u043f\\u0440\\u043e\\u0434\\u0443\\u043a\\u0442\\u043e\\u0432. \\u041d\\u0430\\u0445\\u043e\\u0434\\u044f\\u0441\\u044c \\u0432 \\u0441\\u043e\\u0441\\u0442\\u0430\\u0432\\u0435 \\u043a\\u0440\\u0443\\u043f\\u043d\\u043e\\u0433\\u043e \\u0440\\u0438\\u0442\\u0435\\u0439\\u043b\\u0435\\u0440\\u0430, \\u043c\\u044b \\u0438\\u043c\\u0435\\u0435\\u043c \\u0432\\u043e\\u0437\\u043c\\u043e\\u0436\\u043d\\u043e\\u0441\\u0442\\u044c \\u0438\\u043d\\u0432\\u0435\\u0441\\u0442\\u0438\\u0440\\u043e\\u0432\\u0430\\u0442\\u044c \\u0432 \\u0441\\u0430\\u043c\\u044b\\u0435 \\u0441\\u043c\\u0435\\u043b\\u044b\\u0435 \\u0438\\u0434\\u0435\\u0438, \\u0447\\u0442\\u043e \\u043d\\u0435\\u0434\\u043e\\u0441\\u0442\\u0443\\u043f\\u043d\\u043e \\u043d\\u0435\\u0431\\u043e\\u043b\\u044c\\u0448\\u0438\\u043c \\u0441\\u0442\\u0430\\u0440\\u0442\\u0430\\u043f\\u0430\\u043c, \\u0440\\u0430\\u0437\\u0432\\u0438\\u0432\\u0430\\u044f \\u0442\\u0435\\u0445\\u043d\\u0438\\u0447\\u0435\\u0441\\u043a\\u0438\\u0435 \\u0440\\u0435\\u0448\\u0435\\u043d\\u0438\\u044f \\u0432\\u043c\\u0435\\u0441\\u0442\\u0435 \\u0441 \\u043a\\u043e\\u043c\\u0430\\u043d\\u0434\\u043e\\u0439 e-groccery \\u21161. \\u0422\\u0415\\u041a\\u0423\\u0429\\u0418\\u0415 \\u041d\\u0410\\u0428\\u0418 \\u0410\\u041a\\u0422\\u0418\\u0412\\u041d\\u041e\\u0421\\u0422\\u0418 \\u0421\\u0435\\u0439\\u0447\\u0430\\u0441 \\u043c\\u044b \\u0440\\u0430\\u0437\\u0432\\u0438\\u0432\\u0430\\u0435\\u043c \\u0434\\u043e\\u0441\\u0442\\u0430\\u0432\\u043a\\u0443 \\u0437\\u0430 15 \\u043c\\u0438\\u043d\\u0443\\u0442, \\u043f\\u043b\\u0430\\u043d\\u0438\\u0440\\u0443\\u0435\\u043c \\u0440\\u0430\\u0441\\u0448\\u0438\\u0440\\u044f\\u0442\\u044c \\u0437\\u043e\\u043d\\u0443 \\u0434\\u043e\\u0441\\u0442\\u0430\\u0432\\u043a\\u0438, \\u0434\\u043e\\u0431\\u0430\\u0432\\u043b\\u044f\\u0442\\u044c \\u043d\\u043e\\u0432\\u044b\\u0435 \\u0441\\u043f\\u043e\\u0441\\u043e\\u0431\\u044b \\u0434\\u043e\\u0441\\u0442\\u0430\\u0432\\u043a\\u0438 \\u0438 \\u043f\\u043e\\u0434\\u043a\\u043b\\u044e\\u0447\\u0430\\u0442\\u044c \\u043d\\u043e\\u0432\\u044b\\u0445 \\u043f\\u0430\\u0440\\u0442\\u043d\\u0435\\u0440\\u043e\\u0432. \\u0422\\u0435\\u0445\\u043d\\u0438\\u0447\\u0435\\u0441\\u043a\\u0438\\u043c \\u044f\\u0434\\u0440\\u043e\\u043c \\u044f\\u0432\\u043b\\u044f\\u0435\\u0442\\u0441\\u044f \\u0441\\u043e\\u0431\\u0441\\u0442\\u0432\\u0435\\u043d\\u043d\\u0430\\u044f \\u043a\\u0430\\u0441\\u0442\\u043e\\u043c\\u043d\\u0430\\u044f \\u043f\\u043b\\u0430\\u0442\\u0444\\u043e\\u0440\\u043c\\u0430 e-groccery \\u21161 \\u0438 \\u0442\\u0440\\u0430\\u043d\\u0441\\u043f\\u043e\\u0440\\u0442\\u043d\\u0430\\u044f \\u0441\\u0438\\u0441\\u0442\\u0435\\u043c\\u0430, \\u043a\\u043e\\u0442\\u043e\\u0440\\u0430\\u044f \\u043f\\u0438\\u0448\\u0435\\u0442\\u0441\\u044f \\u0441 \\u043d\\u0443\\u043b\\u044f. \\u041c\\u044b \\u0440\\u0430\\u0431\\u043e\\u0442\\u0430\\u0435\\u043c \\u043d\\u0430\\u0434 \\u043f\\u043b\\u0430\\u0442\\u0444\\u043e\\u0440\\u043c\\u043e\\u0439, \\u043c\\u043e\\u0431\\u0438\\u043b\\u044c\\u043d\\u044b\\u043c\\u0438 \\u043f\\u0440\\u0438\\u043b\\u043e\\u0436\\u0435\\u043d\\u0438\\u044f\\u043c \\u0434\\u043b\\u044f \\u043a\\u043b\\u0438\\u0435\\u043d\\u0442\\u0430 \\u0438 \\u0438\\u043d\\u0441\\u0442\\u0440\\u0443\\u043c\\u0435\\u043d\\u0442\\u0430\\u043c\\u0438 \\u0434\\u043b\\u044f \\u043a\\u0443\\u0440\\u044c\\u0435\\u0440\\u043e\\u0432 \\u0438 \\u0441\\u0431\\u043e\\u0440\\u0449\\u0438\\u043a\\u043e\\u0432. \\u0422\\u0430\\u043a \\u0436\\u0435 \\u0438\\u0441\\u043f\\u043e\\u043b\\u044c\\u0437\\u0443\\u0435\\u043c \\u043f\\u043e\\u0434\\u0445\\u043e\\u0434 \\u043f\\u0440\\u043e\\u0434\\u0443\\u043a\\u0442\\u043e\\u0432\\u043e\\u0439 \\u043a\\u043e\\u043c\\u0430\\u043d\\u0434\\u044b, \\u0432 \\u043a\\u043e\\u0442\\u043e\\u0440\\u043e\\u043c \\u0432\\u0430\\u0436\\u043d\\u043e, \\u0447\\u0442\\u043e\\u0431\\u044b \\u043a\\u043e\\u043c\\u0430\\u043d\\u0434\\u0430 \\u0440\\u0430\\u0431\\u043e\\u0442\\u0430\\u043b\\u0430 \\u0431\\u043e\\u043a-\\u043e-\\u0431\\u043e\\u043a \\u0438 \\u043e\\u0442\\u0441\\u0443\\u0442\\u0441\\u0442\\u0432\\u043e\\u0432\\u0430\\u043b\\u0438 \\u043a\\u043e\\u0440\\u043f\\u043e\\u0440\\u0430\\u0442\\u0438\\u0432\\u043d\\u044b\\u0435 \\u0440\\u0430\\u043c\\u043a\\u0438 \\u0432 \\u043f\\u043e\\u0441\\u0442\\u0440\\u043e\\u0435\\u043d\\u0438\\u0438 \\u0440\\u0430\\u0431\\u043e\\u0447\\u0435\\u0433\\u043e \\u043f\\u0440\\u043e\\u0446\\u0435\\u0441\\u0441\\u0430. \\u041c\\u044b \\u0438\\u0449\\u0435\\u043c \\u0442\\u0438\\u043c-\\u043b\\u0438\\u0434\\u0430 \\u0432 \\u043a\\u043e\\u043c\\u0430\\u043d\\u0434\\u0443 \\u041e\\u043f\\u0435\\u0440\\u0430\\u0446\\u0438\\u0439. \\u041a\\u043e\\u043c\\u0430\\u043d\\u0434\\u0430 \\u043e\\u0442\\u0432\\u0435\\u0447\\u0430\\u0435\\u0442 \\u0437\\u0430 \\u043e\\u043f\\u0435\\u0440\\u0430\\u0446\\u0438\\u043e\\u043d\\u043d\\u0443\\u044e \\u0441\\u043e\\u0441\\u0442\\u0430\\u0432\\u043b\\u044f\\u044e\\u0449\\u0443\\u044e \\u0431\\u0438\\u0437\\u043d\\u0435\\u0441\\u0430 \\u2013 \\u043f\\u0440\\u043e\\u0433\\u043d\\u043e\\u0437\\u0438\\u0440\\u043e\\u0432\\u0430\\u043d\\u0438\\u0435 \\u0441\\u0442\\u043e\\u0438\\u043c\\u043e\\u0441\\u0442\\u0438 \\u0438 \\u0432\\u0440\\u0435\\u043c\\u0435\\u043d\\u0438 \\u0434\\u043e\\u0441\\u0442\\u0430\\u0432\\u043a\\u0438 \\u0437\\u0430\\u043a\\u0430\\u0437\\u043e\\u0432, \\u043c\\u0435\\u0445\\u0430\\u043d\\u043d\\u0438\\u043a\\u0438 \\u0441\\u0443\\u0440\\u0436\\u0430 \\u0438 \\u0431\\u043b\\u043e\\u043a\\u0438\\u0440\\u043e\\u0432\\u043a\\u0438 \\u0442\\u043e\\u0432\\u0430\\u0440\\u043e\\u0432, \\u043f\\u0440\\u0438\\u043b\\u043e\\u0436\\u0435\\u043d\\u0438\\u0435 \\u0434\\u043b\\u044f \\u043f\\u0438\\u043a\\u0435\\u0440\\u043e\\u0432 / \\u043a\\u0443\\u0440\\u044c\\u0435\\u0440\\u043e\\u0432, \\u0438\\u043d\\u0442\\u0435\\u0433\\u0440\\u0430\\u0446\\u0438\\u044f \\u0441 \\u043f\\u0430\\u0440\\u0442\\u043d\\u0435\\u0440\\u0430\\u043c\\u0438 \\u0438 \\u043c\\u043d\\u043e\\u0433\\u043e\\u0435 \\u0434\\u0440\\u0443\\u0433\\u043e\\u0435. \\u0427\\u0422\\u041e \\u041f\\u0420\\u0415\\u0414\\u0421\\u0422\\u041e\\u0418\\u0422 \\u0414\\u0415\\u041b\\u0410\\u0422\\u042c:  \\u041e\\u0440\\u0433\\u0430\\u043d\\u0438\\u0437\\u043e\\u0432\\u044b\\u0432\\u0430\\u0442\\u044c \\u0440\\u0430\\u0431\\u043e\\u0442\\u0443 \\u043a\\u0440\\u043e\\u0441\\u0441-\\u0444\\u0443\\u043d\\u043a\\u0446\\u0438\\u043e\\u043d\\u0430\\u043b\\u044c\\u043d\\u043e\\u0439 \\u043f\\u0440\\u043e\\u0434\\u0443\\u043a\\u0442\\u043e\\u0432\\u043e\\u0439 \\u043a\\u043e\\u043c\\u0430\\u043d\\u0434\\u044b \\u0412\\u0435\\u0441\\u0442\\u0438 \\u043d\\u0430\\u0439\\u043c \\u0438 \\u0430\\u0434\\u0430\\u043f\\u0442\\u0430\\u0446\\u0438\\u044e \\u043b\\u044e\\u0434\\u0435\\u0439 \\u0432 \\u043a\\u043e\\u043c\\u0430\\u043d\\u0434\\u0443, \\u0432\\u044b\\u0441\\u0442\\u0443\\u043f\\u0430\\u0442\\u044c \\u0432 \\u0440\\u043e\\u043b\\u0438 \\u043c\\u0435\\u043d\\u0442\\u043e\\u0440\\u0430 \\u0420\\u0430\\u0437\\u0440\\u0430\\u0431\\u0430\\u0442\\u044b\\u0432\\u0430\\u0442\\u044c \\u0438 \\u043f\\u043e\\u0434\\u0434\\u0435\\u0440\\u0436\\u0438\\u0432\\u0430\\u0442\\u044c \\u043d\\u0430\\u0433\\u0440\\u0443\\u0436\\u0435\\u043d\\u043d\\u0443\\u044e \\u0441\\u0435\\u0440\\u0432\\u0438\\u0441\\u043d\\u0443\\u044e \\u0430\\u0440\\u0445\\u0438\\u0442\\u0435\\u043a\\u0442\\u0443\\u0440\\u0443  \\u0427\\u0422\\u041e \\u0414\\u041b\\u042f \\u042d\\u0422\\u041e\\u0413\\u041e \\u041d\\u0423\\u0416\\u041d\\u041e:  \\u0418\\u043c\\u0435\\u0442\\u044c \\u043e\\u043f\\u044b\\u0442 \\u043d\\u0430 \\u043f\\u043e\\u0437\\u0438\\u0446\\u0438\\u0438 \\u043b\\u0438\\u0434\\u0430 \\u043e\\u0442 \\u0433\\u043e\\u0434\\u0430 \\u041f\\u043e\\u043d\\u0438\\u043c\\u0430\\u0442\\u044c \\u0438 \\u0438\\u0441\\u043f\\u043e\\u043b\\u044c\\u0437\\u043e\\u0432\\u0430\\u0442\\u044c \\u0441\\u043e\\u0432\\u0440\\u0435\\u043c\\u0435\\u043d\\u043d\\u044b\\u0435 \\u043f\\u043e\\u0434\\u0445\\u043e\\u0434\\u044b \\u043a \\u0440\\u0430\\u0437\\u0440\\u0430\\u0431\\u043e\\u0442\\u043a\\u0435 \\u0417\\u043d\\u0430\\u0442\\u044c \\u0441\\u0438\\u043b\\u044c\\u043d\\u044b\\u0435 \\u0441\\u0442\\u043e\\u0440\\u043e\\u043d\\u044b \\u0438 \\u043e\\u0441\\u043e\\u0431\\u0435\\u043d\\u043d\\u043e\\u0441\\u0442\\u0438 python \\u0418\\u043c\\u0435\\u0442\\u044c \\u043e\\u043f\\u044b\\u0442 \\u0440\\u0430\\u0431\\u043e\\u0442\\u044b \\u0441 \\u0440\\u0435\\u043b\\u044f\\u0446\\u0438\\u043e\\u043d\\u043d\\u044b\\u043c\\u0438 \\u0431\\u0430\\u0437\\u0430\\u043c\\u0438 \\u0434\\u0430\\u043d\\u043d\\u044b\\u0445 \\u0423\\u043c\\u0435\\u0442\\u044c \\u043f\\u0440\\u043e\\u0435\\u043a\\u0442\\u0438\\u0440\\u043e\\u0432\\u0430\\u0442\\u044c \\u0438 \\u0440\\u0435\\u0430\\u043b\\u0438\\u0437\\u043e\\u0432\\u044b\\u0432\\u0430\\u0442\\u044c API \\u0414\\u043e\\u043f\\u043e\\u043b\\u043d\\u0438\\u0442\\u0435\\u043b\\u044c\\u043d\\u043e, \\u0431\\u044b\\u043b\\u043e \\u0431\\u044b \\u043a\\u043b\\u0430\\u0441\\u0441\\u043d\\u043e \\u0438\\u043c\\u0435\\u0442\\u044c \\u043e\\u043f\\u044b\\u0442 \\u0432 e-commerce \\u043f\\u0440\\u043e\\u0435\\u043a\\u0442\\u0430\\u0445  \\u0421\\u0422\\u0415\\u041a:  PHP 7.4+, GO, Python, RoadRunner, grpc, Kubernetes. \\u0420\\u0430\\u0431\\u043e\\u0442\\u0430\\u0435\\u043c \\u0441 \\u0442\\u0440\\u0435\\u0431\\u043e\\u0432\\u0430\\u043d\\u0438\\u044f\\u043c\\u0438 \\u0432 Confluence \\u0438 Jira.  \\u0427\\u0422\\u041e \\u0422\\u0415\\u0411\\u0415 \\u0411\\u0423\\u0414\\u0415\\u0422 \\u0418\\u041d\\u0422\\u0415\\u0420\\u0415\\u0421\\u041d\\u041e:  \\u041e\\u043f\\u044b\\u0442 \\u0443\\u0447\\u0430\\u0441\\u0442\\u0438\\u044f \\u0432 \\u043e\\u043d-\\u043b\\u0430\\u0439\\u043d \\u043f\\u0440\\u043e\\u0435\\u043a\\u0442\\u0430\\u0445 \\u043e\\u0434\\u043d\\u043e\\u0439 \\u0438\\u0437 \\u043b\\u0438\\u0434\\u0438\\u0440\\u0443\\u044e\\u0449\\u0438\\u0445 \\u0440\\u043e\\u0437\\u043d\\u0438\\u0447\\u043d\\u044b\\u0445 \\u0441\\u0435\\u0442\\u0435\\u0439 \\u041d\\u0435\\u043e\\u0433\\u0440\\u0430\\u043d\\u0438\\u0447\\u0435\\u043d\\u043d\\u044b\\u0439 \\u043f\\u0440\\u043e\\u0444\\u0435\\u0441\\u0441\\u0438\\u043e\\u043d\\u0430\\u043b\\u044c\\u043d\\u044b\\u0439 \\u0440\\u043e\\u0441\\u0442 \\u0421\\u0443\\u043f\\u0435\\u0440\\u0441\\u043a\\u0438\\u0435 \\u0443\\u0441\\u043b\\u043e\\u0432\\u0438\\u044f \\u0434\\u043b\\u044f \\u0432\\u0441\\u0435\\u0441\\u0442\\u043e\\u0440\\u043e\\u043d\\u043d\\u0435\\u0433\\u043e \\u0440\\u0430\\u0437\\u0432\\u0438\\u0442\\u0438\\u044f \\u0438 \\u0432\\u043e\\u043f\\u043b\\u043e\\u0449\\u0435\\u043d\\u0438\\u044f \\u0438\\u0434\\u0435\\u0439 \\u0421\\u043e\\u0432\\u0440\\u0435\\u043c\\u0435\\u043d\\u043d\\u044b\\u0435 \\u0442\\u0435\\u0445\\u043d\\u043e\\u043b\\u043e\\u0433\\u0438\\u0438 \\u0438 \\u043f\\u043e\\u0434\\u0445\\u043e\\u0434\\u044b \\u0418\\u043d\\u0442\\u0435\\u0440\\u0435\\u0441\\u043d\\u044b\\u0435 \\u0438 \\u0430\\u043c\\u0431\\u0438\\u0446\\u0438\\u043e\\u0437\\u043d\\u044b\\u0435 \\u0437\\u0430\\u0434\\u0430\\u0447\\u0438 \\u0421\\u0442\\u0430\\u0440\\u0442-\\u0430\\u043f \\u043a\\u0443\\u043b\\u044c\\u0442\\u0443\\u0440\\u0430 \\u043f\\u0440\\u043e\\u0434\\u0443\\u043a\\u0442\\u043e\\u0432\\u043e\\u0439 \\u043a\\u043e\\u043c\\u0430\\u043d\\u0434\\u044b \\u041f\\u043e\\u0434\\u0434\\u0435\\u0440\\u0436\\u043a\\u0430 \\u043e\\u0442 \\u0442\\u043e\\u043f-\\u043c\\u0435\\u043d\\u0435\\u0434\\u0436\\u043c\\u0435\\u043d\\u0442\\u0430 \\u043a\\u043e\\u043c\\u043f\\u0430\\u043d\\u0438\\u0438  \\u0427\\u0422\\u041e \\u041c\\u042b \\u041f\\u0420\\u0415\\u0414\\u041b\\u0410\\u0413\\u0410\\u0415\\u041c \\u0422\\u0415\\u0411\\u0415:  \\u0414\\u0440\\u0443\\u0436\\u043d\\u0443\\u044e \\u043a\\u043e\\u043c\\u0430\\u043d\\u0434\\u0443 \\u043f\\u0440\\u043e\\u0444\\u0435\\u0441\\u0441\\u0438\\u043e\\u043d\\u0430\\u043b\\u043e\\u0432 \\u0441 \\u0435\\u0432\\u0440\\u043e\\u043f\\u0435\\u0439\\u0441\\u043a\\u043e\\u0439 \\u043a\\u043e\\u0440\\u043f\\u043e\\u0440\\u0430\\u0442\\u0438\\u0432\\u043d\\u043e\\u0439 \\u043a\\u0443\\u043b\\u044c\\u0442\\u0443\\u0440\\u043e\\u0439 \\u041f\\u0440\\u043e\\u0433\\u0440\\u0430\\u043c\\u043c\\u0443 \\u043b\\u0438\\u0447\\u043d\\u043e\\u0433\\u043e \\u0440\\u0430\\u0437\\u0432\\u0438\\u0442\\u0438\\u044f, \\u0432\\u043a\\u043b\\u044e\\u0447\\u0430\\u044e\\u0449\\u0430\\u044f \\u0432\\u043d\\u0435\\u0448\\u043d\\u0435\\u0435 \\u0438 \\u0432\\u043d\\u0443\\u0442\\u0440\\u0435\\u043d\\u043d\\u0435\\u0435 \\u043e\\u0431\\u0443\\u0447\\u0435\\u043d\\u0438\\u0435 (\\u0432\\u044b \\u0441\\u043c\\u043e\\u0436\\u0435\\u0442\\u0435 \\u043f\\u0440\\u0438\\u043d\\u044f\\u0442\\u044c \\u0443\\u0447\\u0430\\u0441\\u0442\\u0438\\u0435 \\u0432 \\u0442\\u043e\\u0439 \\u043f\\u0440\\u043e\\u0433\\u0440\\u0430\\u043c\\u043c\\u0435, \\u043a\\u043e\\u0442\\u043e\\u0440\\u0430\\u044f \\u0431\\u0443\\u0434\\u0435\\u0442 \\u0432\\u0430\\u043c \\u0438\\u043d\\u0442\\u0435\\u0440\\u0435\\u0441\\u043d\\u0430) \\u0414\\u043b\\u044f \\u0443\\u0434\\u043e\\u0431\\u0441\\u0442\\u0432\\u0430 \\u043a\\u043e\\u043c\\u0444\\u043e\\u0440\\u0442\\u043d\\u044b\\u0439 \\u043e\\u0444\\u0438\\u0441 \\u0432 \\u0446\\u0435\\u043d\\u0442\\u0440\\u0435 \\u041c\\u043e\\u0441\\u043a\\u0432\\u044b \\u0440\\u044f\\u0434\\u043e\\u043c \\u0441 \\u043c.\\u041a\\u0440\\u0430\\u0441\\u043d\\u043e\\u043f\\u0440\\u0435\\u0441\\u043d\\u0435\\u043d\\u0441\\u043a\\u0430\\u044f. \\u0412 \\u0421\\u0430\\u043d\\u043a\\u0442-\\u041f\\u0435\\u0442\\u0435\\u0440\\u0431\\u0443\\u0440\\u0433\\u0435 \\u043e\\u0442\\u043b\\u0438\\u0447\\u043d\\u044b\\u0439 \\u043e\\u0444\\u0438\\u0441 \\u0441\\u043e \\u0441\\u0432\\u043e\\u0435\\u0439 \\u0432\\u0435\\u043b\\u043e\\u043f\\u0430\\u0440\\u043a\\u043e\\u0432\\u043a\\u043e\\u0439 \\u0432 \\u041f\\u0440\\u0438\\u043c\\u043e\\u0440\\u0441\\u043a\\u043e\\u043c \\u0440\\u0430\\u0439\\u043e\\u043d\\u0435 \\u041a\\u043e\\u043d\\u043a\\u0443\\u0440\\u0435\\u043d\\u0442\\u043d\\u044b\\u0439 \\u0443\\u0440\\u043e\\u0432\\u0435\\u043d\\u044c \\u0417\\u041f (\\u0440\\u0430\\u0441\\u0441\\u043c\\u043e\\u0442\\u0440\\u0438\\u043c \\u0432\\u0430\\u0448\\u0438 \\u043e\\u0436\\u0438\\u0434\\u0430\\u043d\\u0438\\u044f) \\u041f\\u043e\\u043b\\u0443\\u0433\\u043e\\u0434\\u043e\\u0432\\u043e\\u0435 \\u043f\\u0440\\u0435\\u043c\\u0438\\u0440\\u043e\\u0432\\u0430\\u043d\\u0438\\u0435 \\u043d\\u0430 \\u043e\\u0441\\u043d\\u043e\\u0432\\u0430\\u043d\\u0438\\u0438 \\u0440\\u0435\\u0437\\u0443\\u043b\\u044c\\u0442\\u0430\\u0442\\u043e\\u0432 \\u043e\\u0446\\u0435\\u043d\\u043a\\u0438 \\u0434\\u0435\\u044f\\u0442\\u0435\\u043b\\u044c\\u043d\\u043e\\u0441\\u0442\\u0438 \\u0413\\u0438\\u0431\\u043a\\u043e\\u0435 \\u043d\\u0430\\u0447\\u0430\\u043b\\u043e \\u0440\\u0430\\u0431\\u043e\\u0447\\u0435\\u0433\\u043e \\u0434\\u043d\\u044f (\\u0432\\u043e\\u0437\\u043c\\u043e\\u0436\\u043d\\u043e\\u0441\\u0442\\u044c \\u0440\\u0430\\u0431\\u043e\\u0442\\u0430\\u0442\\u044c \\u0443\\u0434\\u0430\\u043b\\u0435\\u043d\\u043d\\u043e \\u0434\\u043e 100% \\u0440\\u0430\\u0431\\u043e\\u0447\\u0435\\u0433\\u043e \\u0432\\u0440\\u0435\\u043c\\u0435\\u043d\\u0438) \\u0414\\u041c\\u0421, \\u0432\\u043a\\u043b\\u044e\\u0447\\u0430\\u044e\\u0449\\u0430\\u044f \\u0441\\u0442\\u043e\\u043c\\u0430\\u0442\\u043e\\u043b\\u043e\\u0433\\u0438\\u044e \\u041a\\u043e\\u043c\\u043f\\u0435\\u043d\\u0441\\u0430\\u0446\\u0438\\u044e \\u043c\\u043e\\u0431\\u0438\\u043b\\u044c\\u043d\\u043e\\u0439 \\u0441\\u0432\\u044f\\u0437\\u0438 \\u041e\\u0444\\u043e\\u0440\\u043c\\u043b\\u0435\\u043d\\u0438\\u0435 \\u043f\\u043e \\u0422\\u041a \\u0420\\u0424, \\u043f\\u043e\\u043b\\u043d\\u044b\\u0439 \\u0441\\u043f\\u0435\\u043a\\u0442\\u0440 \\u0441\\u043e\\u0446\\u0438\\u0430\\u043b\\u044c\\u043d\\u044b\\u0445 \\u043b\\u044c\\u0433\\u043e\\u0442 (\\u0441\\u043a\\u0438\\u0434\\u043e\\u0447\\u043d\\u0430\\u044f \\u043a\\u0430\\u0440\\u0442\\u0430 &quot;\\u041b\\u0435\\u043d\\u0442\\u0430&quot; \\u0438 &quot;\\u0423\\u0442\\u043a\\u043e\\u043d\\u043e\\u0441&quot; 10% \\u043d\\u0430 \\u0432\\u0435\\u0441\\u044c \\u0430\\u0441\\u0441\\u043e\\u0440\\u0442\\u0438\\u043c\\u0435\\u043d\\u0442, \\u0441\\u043f\\u043e\\u0440\\u0442\\u0438\\u0432\\u043d\\u044b\\u0435 \\u0441\\u0435\\u043a\\u0446\\u0438\\u0438) \\u0412\\u043e\\u0437\\u043c\\u043e\\u0436\\u043d\\u043e\\u0441\\u0442\\u044c \\u043f\\u0440\\u043e\\u0444\\u0435\\u0441\\u0441\\u0438\\u043e\\u043d\\u0430\\u043b\\u044c\\u043d\\u043e\\u0433\\u043e \\u0440\\u043e\\u0441\\u0442\\u0430 \\u0432\\u043d\\u0443\\u0442\\u0440\\u0438 \\u0433\\u0440\\u0443\\u043f\\u043f\\u044b \\u043a\\u043e\\u043c\\u043f\\u0430\\u043d\\u0438\\u0438 \\u2013 \\u041b\\u0435\\u043d\\u0442\\u0430, \\u0423\\u0442\\u043a\\u043e\\u043d\\u043e\\u0441, \\u0421\\u0435\\u0432\\u0435\\u0440 \\u0433\\u0440\\u0443\\u043f\\u043f, \\u0421\\u0435\\u0432\\u0435\\u0440\\u0441\\u0442\\u0430\\u043b\\u044c, \\u0421\\u0438\\u043b\\u043e\\u0432\\u044b\\u0435 \\u043c\\u0430\\u0448\\u0438\\u043d\\u044b, TUI Group, NordGold \\u0438 \\u0442\\u0434. \"\n        ],\n        \"semantic_type\": \"\",\n        \"description\": \"\"\n      }\n    }\n  ]\n}"
            }
          },
          "metadata": {},
          "execution_count": 9
        }
      ],
      "source": [
        "data.head()"
      ]
    },
    {
      "cell_type": "markdown",
      "metadata": {
        "id": "VWxVAWSGIoFf"
      },
      "source": [
        "### Практические задания:"
      ]
    },
    {
      "cell_type": "markdown",
      "metadata": {
        "id": "KqvIOEAwIoFg"
      },
      "source": [
        "#### 1. Изучите методы для сбора данных курсов валют в [API Центрального банка Российской Федерации](https://www.cbr.ru/development/SXML/) . Используя запросы к API, приведите значения заработной платы к рублям одним из вариантов: 1) простой вариант - на текущую дату  2) вариант посложнее - на дату создания (created)."
      ]
    },
    {
      "cell_type": "code",
      "execution_count": null,
      "metadata": {
        "id": "4afOve6HSNl6"
      },
      "outputs": [],
      "source": [
        "data['salary_to'] = pd.to_numeric(data['salary_to'], errors='coerce')\n",
        "data['salary_from'] = pd.to_numeric(data['salary_from'], errors='coerce')"
      ]
    },
    {
      "cell_type": "code",
      "execution_count": null,
      "metadata": {
        "colab": {
          "base_uri": "https://localhost:8080/"
        },
        "id": "fE3QadKVTmTT",
        "outputId": "8e0d2ad1-05ca-4695-dd47-a5bad4ceb51c"
      },
      "outputs": [
        {
          "output_type": "execute_result",
          "data": {
            "text/plain": [
              "dtype('float64')"
            ]
          },
          "metadata": {},
          "execution_count": 7
        }
      ],
      "source": [
        "data['salary_to'].dtype"
      ]
    },
    {
      "cell_type": "code",
      "execution_count": null,
      "metadata": {
        "id": "hleh3aSLBqY9"
      },
      "outputs": [],
      "source": [
        "import requests\n",
        "from bs4 import BeautifulSoup\n",
        "from tqdm import tqdm"
      ]
    },
    {
      "cell_type": "markdown",
      "metadata": {
        "id": "RWaPMv55K0jy"
      },
      "source": [
        "**1) На текущую дату**"
      ]
    },
    {
      "cell_type": "code",
      "execution_count": null,
      "metadata": {
        "colab": {
          "base_uri": "https://localhost:8080/"
        },
        "id": "IPLR7m0ZIoFh",
        "outputId": "22816cc0-fad4-4938-d19b-d14322c878d8",
        "scrolled": true
      },
      "outputs": [
        {
          "output_type": "execute_result",
          "data": {
            "text/plain": [
              "200"
            ]
          },
          "metadata": {},
          "execution_count": 15
        }
      ],
      "source": [
        "url = 'http://www.cbr.ru/scripts/XML_daily.asp/'\n",
        "response = requests.get(url)\n",
        "response.status_code"
      ]
    },
    {
      "cell_type": "code",
      "execution_count": null,
      "metadata": {
        "id": "j9n-0ZPvERY0",
        "colab": {
          "base_uri": "https://localhost:8080/"
        },
        "outputId": "e5f44c45-bada-44c1-a4d9-423e9d7c656a"
      },
      "outputs": [
        {
          "output_type": "stream",
          "name": "stdout",
          "text": [
            "92,3892\n"
          ]
        }
      ],
      "source": [
        "soup = BeautifulSoup(response.text, 'xml')\n",
        "\n",
        "eur_info = soup.find('Valute', {'ID': \"R01239\"}).find('Value').text\n",
        "\n",
        "usd_info = soup.find('Valute', {'ID': \"R01235\"}).find('Value').text"
      ]
    },
    {
      "cell_type": "code",
      "execution_count": null,
      "metadata": {
        "id": "rFO3Zq_EOB6S"
      },
      "outputs": [],
      "source": [
        "data.loc[data['currency'] == 'EUR', 'salary_to'] *= float(eur_info.replace(',', '.'))\n",
        "data.loc[data['currency'] == 'USD', 'salary_to'] *= float(usd_info.replace(',', '.'))"
      ]
    },
    {
      "cell_type": "code",
      "execution_count": null,
      "metadata": {
        "id": "lLWlb_n_UgKk"
      },
      "outputs": [],
      "source": [
        "data.loc[data['currency'] == 'EUR', 'salary_from'] *= float(eur_info.replace(',', '.'))\n",
        "data.loc[data['currency'] == 'USD', 'salary_from'] *= float(usd_info.replace(',', '.'))"
      ]
    },
    {
      "cell_type": "markdown",
      "metadata": {
        "id": "aDPoji-FLGpK"
      },
      "source": [
        "**2) На дату создания**"
      ]
    },
    {
      "cell_type": "markdown",
      "metadata": {
        "id": "73qg5sk0qceM"
      },
      "source": [
        "Как мы видим сервер нам возвращает ОТВЕТ 404 , который говорит , что нет такой страницы. Но если мы выполним запрос через браузер , то все нормально.\n",
        "\n",
        "Такая ошибка происходит из-за того , что сервер думает , что мы робот , так по умолчанию User-Agent отправляемого запроса равен python-requests/2.22.0. Чтобы сервер нам возвращал нормальный ответ , нужно указать правильный User-Agent, который эмулирует действия пользователя.\n",
        "\n"
      ]
    },
    {
      "cell_type": "markdown",
      "metadata": {
        "id": "pm_iU0xVqxuQ"
      },
      "source": [
        "Теперь разберемся для чего нужен _xsrf . Когда мы логинимся на сайте hh.ru , то мы просто вводим логин и пароль и все. Но при этом при POST запросе на сервер кроме введенных нами значений передается и параметр _xsrf, который нужен для защиты от CSRF-атак. Так вот значение этого параметра сервер hh.ru генерирует автоматически и хранит его в кукис файлах в браузере и чтобы получить это значение , нам нужно использовать объект Session библиотеки requests.\n",
        "\n",
        "Объект Session позволяет сохранять определенные параметры в запросах.Он также сохраняет файлы COOKIE во всех запросах."
      ]
    },
    {
      "cell_type": "code",
      "source": [
        "def get_data_from_hh(url):\n",
        "  user_agent_val = 'Mozilla/5.0 (Macintosh; Intel Mac OS X 10_15_7) AppleWebKit/537.36 (KHTML, like Gecko) Chrome/121.0.0.0 Safari/537.36'\n",
        "  session = requests.Session()\n",
        "  r = session.get(data_url, headers = {\n",
        "    'User-Agent': user_agent_val\n",
        "  })\n",
        "\n",
        "  # Указываем referer. Иногда , если не указать , то приводит к ошибкам.\n",
        "  session.headers.update({'Referer':url})\n",
        "\n",
        "  #Хотя , мы ранее указывали наш user-agent и запрос удачно прошел и вернул\n",
        "  # нам нужный ответ, но user-agent изменился на тот , который был\n",
        "  # по умолчанию. И поэтому мы обновляем его.\n",
        "  session.headers.update({'User-Agent':user_agent_val})\n",
        "\n",
        "  # Получаем значение _xsrf из cookies\n",
        "  _xsrf = session.cookies.get('_xsrf', domain=\".hh.ru\")\n",
        "\n",
        "  post_request = session.post(url, {\n",
        "      'backUrl': url,\n",
        "      'username': '',\n",
        "      'password': '',\n",
        "      '_xsrf':_xsrf,\n",
        "      'remember':'yes',\n",
        "  })\n",
        "  r2 = session.get(url, headers = {\n",
        "  'User-Agent': user_agent_val\n",
        "  })\n",
        "  soup_g = BeautifulSoup(r2.text, 'lxml')\n",
        "  if soup_g is not None:\n",
        "    url_vacancy = soup_g.find('div', class_='main-content main-content_broad-spacing')\n",
        "    if url_vacancy is not None:\n",
        "      url_vacancy_f = url_vacancy.find('div', class_='bloko-columns-wrapper')\n",
        "      if url_vacancy_f is not None:\n",
        "        url_vacancy_f_f = url_vacancy_f.find('a', class_='bloko-link bloko-link_disable-visited')\n",
        "        if url_vacancy_f_f is not None:\n",
        "          res_url = url_vacancy_f_f['href']\n",
        "          if res_url is not None:\n",
        "            vacancy_response = requests.get('https://spb.hh.ru' + res_url, headers = {\n",
        "            'User-Agent': user_agent_val\n",
        "            })\n",
        "            soup_v = BeautifulSoup(vacancy_response.text, 'lxml')\n",
        "            desc = soup_v.find('meta', {'name': 'description'}).get('content')\n",
        "            date_f = desc.find('Дата публикации')\n",
        "            date_st = date_f + len('Дата публикации: ')\n",
        "            date_end = date_st + 10\n",
        "            date = desc[date_st:date_end]\n",
        "            return date"
      ],
      "metadata": {
        "id": "idye3vw6B0dE"
      },
      "execution_count": null,
      "outputs": []
    },
    {
      "cell_type": "code",
      "source": [
        "index = data.loc[(data['currency'] == 'EUR') | (data['currency'] == 'USD'), 'url'].index.values.astype(int)"
      ],
      "metadata": {
        "id": "M-mkLqeJD1xo"
      },
      "execution_count": null,
      "outputs": []
    },
    {
      "cell_type": "code",
      "execution_count": null,
      "metadata": {
        "id": "MYkwZpT6qiBW",
        "colab": {
          "base_uri": "https://localhost:8080/"
        },
        "outputId": "93ecb8a0-0891-4a37-e0d6-5fb23ef121ed"
      },
      "outputs": [
        {
          "output_type": "stream",
          "name": "stdout",
          "text": [
            "19\n",
            "https://hh.ru/applicant/vacancy_response?vacancyId=46066105\n",
            "06.08.2021\n",
            "EURO 86.6529\n",
            "123\n",
            "https://hh.ru/applicant/vacancy_response?vacancyId=46670558\n",
            "30.07.2021\n",
            "EURO 86.8624\n",
            "142\n",
            "https://hh.ru/applicant/vacancy_response?vacancyId=45657847\n",
            "16.09.2021\n",
            "72,8520\n",
            "145\n",
            "https://hh.ru/applicant/vacancy_response?vacancyId=46670557\n",
            "30.07.2021\n",
            "EURO 86.8624\n",
            "175\n",
            "https://hh.ru/applicant/vacancy_response?vacancyId=46497746\n",
            "21.08.2021\n",
            "74,3640\n",
            "191\n",
            "https://hh.ru/applicant/vacancy_response?vacancyId=45560000\n",
            "02.08.2021\n",
            "73,1388\n",
            "371\n",
            "https://hh.ru/applicant/vacancy_response?vacancyId=45795577\n",
            "386\n",
            "https://hh.ru/applicant/vacancy_response?vacancyId=46439735\n",
            "18.08.2021\n",
            "73,4753\n",
            "427\n",
            "https://hh.ru/applicant/vacancy_response?vacancyId=46351042\n",
            "18.08.2021\n",
            "EURO 86.4804\n",
            "435\n",
            "https://hh.ru/applicant/vacancy_response?vacancyId=46496928\n",
            "21.08.2021\n",
            "74,3640\n",
            "437\n",
            "https://hh.ru/applicant/vacancy_response?vacancyId=45468885\n",
            "27.09.2021\n",
            "EURO 85.6823\n",
            "465\n",
            "https://hh.ru/applicant/vacancy_response?vacancyId=46563619\n",
            "23.08.2021\n",
            "74,3640\n",
            "478\n",
            "https://hh.ru/applicant/vacancy_response?vacancyId=46212551\n",
            "09.08.2021\n",
            "EURO 86.4621\n",
            "558\n",
            "https://hh.ru/applicant/vacancy_response?vacancyId=45657026\n",
            "17.10.2021\n",
            "71,2371\n",
            "601\n",
            "https://hh.ru/applicant/vacancy_response?vacancyId=46079761\n",
            "05.08.2021\n",
            "EURO 86.4112\n",
            "685\n",
            "https://hh.ru/applicant/vacancy_response?vacancyId=46491943\n",
            "24.07.2021\n",
            "EURO 86.8451\n",
            "694\n",
            "https://hh.ru/applicant/vacancy_response?vacancyId=46491941\n",
            "24.07.2021\n",
            "EURO 86.8451\n",
            "730\n",
            "https://hh.ru/applicant/vacancy_response?vacancyId=46491942\n",
            "24.07.2021\n",
            "EURO 86.8451\n",
            "859\n",
            "https://hh.ru/applicant/vacancy_response?vacancyId=46108037\n",
            "900\n",
            "https://hh.ru/applicant/vacancy_response?vacancyId=46372339\n",
            "20.07.2021\n",
            "74,3463\n",
            "1077\n",
            "https://hh.ru/applicant/vacancy_response?vacancyId=46004944\n",
            "28.07.2021\n",
            "73,8471\n",
            "1216\n",
            "https://hh.ru/applicant/vacancy_response?vacancyId=46550983\n",
            "27.07.2021\n",
            "EURO 87.3171\n",
            "1306\n",
            "https://hh.ru/applicant/vacancy_response?vacancyId=46706519\n",
            "25.09.2021\n",
            "EURO 85.6823\n",
            "1312\n",
            "https://hh.ru/applicant/vacancy_response?vacancyId=45795563\n",
            "1446\n",
            "https://hh.ru/applicant/vacancy_response?vacancyId=46491940\n",
            "24.07.2021\n",
            "EURO 86.8451\n",
            "1453\n",
            "https://hh.ru/applicant/vacancy_response?vacancyId=46401640\n",
            "21.07.2021\n",
            "74,4910\n",
            "1470\n",
            "https://hh.ru/applicant/vacancy_response?vacancyId=46673127\n",
            "25.09.2021\n",
            "73,0081\n",
            "1512\n",
            "https://hh.ru/applicant/vacancy_response?vacancyId=46627258\n",
            "27.08.2021\n",
            "EURO 87.0576\n",
            "1627\n",
            "https://hh.ru/applicant/vacancy_response?vacancyId=46493533\n",
            "24.07.2021\n",
            "73,7663\n"
          ]
        }
      ],
      "source": [
        "for data_url, iterations in zip(data.loc[(data['currency'] == 'EUR') | (data['currency'] == 'USD'), 'url'], index):\n",
        "  date = get_data_from_hh(data_url)\n",
        "  if date is not None:\n",
        "    url_date = 'http://www.cbr.ru/scripts/XML_daily.asp?date_req=' + date\n",
        "    url_text = requests.get(url_date)\n",
        "    if url_text.status_code == 200:\n",
        "      soup = BeautifulSoup(url_text.text, 'xml')\n",
        "      if data.loc[iterations, 'currency'] == 'EUR':\n",
        "        euro_info = soup.find('Valute', {'ID': \"R01239\"})\n",
        "        if euro_info is not None:\n",
        "          euro = euro_info.find('Value').text\n",
        "          data.loc[iterations, 'salary_to'] *= float(euro.replace(',', '.'))\n",
        "          data.loc[iterations, 'salary_from'] *= float(euro.replace(',', '.'))\n",
        "      if data.loc[iterations, 'currency'] == 'USD':\n",
        "        usdd_info = soup.find('Valute', {'ID': \"R01235\"})\n",
        "        if usdd_info is not None:\n",
        "          usdd = usdd_info.find('Value').text\n",
        "          data.loc[iterations, 'salary_to'] *= float(usdd.replace(',', '.'))\n",
        "          data.loc[iterations, 'salary_from'] *= float(usdd.replace(',', '.'))\n"
      ]
    },
    {
      "cell_type": "markdown",
      "source": [
        "**Работа с пропусками (количественные признаки)**"
      ],
      "metadata": {
        "id": "05IjYKHBKDTS"
      }
    },
    {
      "cell_type": "markdown",
      "source": [
        "Имеется большой процент пропусков в колонках с количественными признаками 'salary_to', 'salary_from'\n",
        "\n",
        "Используем медиану, т.к она более устойчива к выбросам"
      ],
      "metadata": {
        "id": "dbvyLYoVKKZt"
      }
    },
    {
      "cell_type": "code",
      "source": [
        "data.info()"
      ],
      "metadata": {
        "colab": {
          "base_uri": "https://localhost:8080/"
        },
        "id": "eVb3Gvc2KLJv",
        "outputId": "2178b10d-ec1e-4580-8c5e-e9dc80cff9f6"
      },
      "execution_count": null,
      "outputs": [
        {
          "output_type": "stream",
          "name": "stdout",
          "text": [
            "<class 'pandas.core.frame.DataFrame'>\n",
            "RangeIndex: 1700 entries, 0 to 1699\n",
            "Data columns (total 13 columns):\n",
            " #   Column       Non-Null Count  Dtype  \n",
            "---  ------       --------------  -----  \n",
            " 0   vacancy      1700 non-null   object \n",
            " 1   url          1700 non-null   object \n",
            " 2   created      1700 non-null   object \n",
            " 3   has_test     1700 non-null   bool   \n",
            " 4   salary_from  538 non-null    float64\n",
            " 5   salary_to    433 non-null    float64\n",
            " 6   currency     613 non-null    object \n",
            " 7   experience   1700 non-null   object \n",
            " 8   schedule     1700 non-null   object \n",
            " 9   skills       1490 non-null   object \n",
            " 10  employer     1700 non-null   object \n",
            " 11  area         1700 non-null   object \n",
            " 12  description  1700 non-null   object \n",
            "dtypes: bool(1), float64(2), object(10)\n",
            "memory usage: 161.2+ KB\n"
          ]
        }
      ]
    },
    {
      "cell_type": "code",
      "source": [
        "data['salary_from'] = data['salary_from'].fillna(data['salary_from'].median())\n",
        "data['salary_to'] = data['salary_to'].fillna(data['salary_to'].median())"
      ],
      "metadata": {
        "id": "ExtHhINuKQ-f"
      },
      "execution_count": null,
      "outputs": []
    },
    {
      "cell_type": "markdown",
      "metadata": {
        "id": "-Yx5uOkZIoFh"
      },
      "source": [
        "#### 2. Найдите вакансию с самой высокой заработной платой, где подойдет 4 года опыта работы и не нужно проходить тестовое задание."
      ]
    },
    {
      "cell_type": "code",
      "execution_count": null,
      "metadata": {
        "id": "KlKOayUCIoFi",
        "colab": {
          "base_uri": "https://localhost:8080/",
          "height": 35
        },
        "outputId": "43f67b6e-4df3-4f9b-a8b6-b99e401da68f"
      },
      "outputs": [
        {
          "output_type": "execute_result",
          "data": {
            "text/plain": [
              "'Senior Python Developer (Кипр, Лимассол)'"
            ],
            "application/vnd.google.colaboratory.intrinsic+json": {
              "type": "string"
            }
          },
          "metadata": {},
          "execution_count": 22
        }
      ],
      "source": [
        "req_data = data[\n",
        "    (data['experience'] == 'От 3 до 6 лет') & (data['has_test'] == False)\n",
        "].sort_values(by='salary_from', ascending=False).head(10)\n",
        "max_salary = req_data['salary_from'].iloc[0]\n",
        "max_vacancy = req_data[req_data['salary_from'] == max_salary].iloc[0]['vacancy']\n",
        "max_vacancy"
      ]
    },
    {
      "cell_type": "markdown",
      "metadata": {
        "id": "ADqG9uRgIoFi"
      },
      "source": [
        "#### 3. Сделайте рейтинг (топ-30) навыков по всем вакансиям."
      ]
    },
    {
      "cell_type": "code",
      "source": [
        "skills_notna = data['skills'].notna()\n",
        "skills = []\n",
        "for skill in data.loc[skills_notna, 'skills']:\n",
        "  ext = skill.split(';')\n",
        "  skills.extend(ext)\n",
        "skills_series = pd.Series(data=skills).replace('', None).dropna()\n",
        "top_skills = skills_series.value_counts()[:30]\n",
        "for i, skill in enumerate(top_skills, start=1):\n",
        "  print(f'Топ 30 навыков: \\n{i, skill}')"
      ],
      "metadata": {
        "colab": {
          "base_uri": "https://localhost:8080/"
        },
        "id": "K3a7x91GFvRi",
        "outputId": "4fccc129-563d-4a32-988e-7800bd01150d"
      },
      "execution_count": null,
      "outputs": [
        {
          "output_type": "stream",
          "name": "stdout",
          "text": [
            "Топ 30 навыков: \n",
            "Python              1442\n",
            "Git                  586\n",
            "SQL                  501\n",
            "PostgreSQL           499\n",
            "Django Framework     467\n",
            "Linux                463\n",
            "Flask                177\n",
            "Docker               172\n",
            "JavaScript           149\n",
            "Английский язык      141\n",
            "MySQL                128\n",
            "ООП                  120\n",
            "MongoDB              113\n",
            "Redis                107\n",
            "REST                  70\n",
            "RabbitMQ              68\n",
            "Django                62\n",
            "CSS                   56\n",
            "HTML                  56\n",
            "Atlassian Jira        52\n",
            "C++                   50\n",
            "API                   49\n",
            "Java                  43\n",
            "MS SQL                43\n",
            "Базы данных           41\n",
            "Работа в команде      39\n",
            "AWS                   36\n",
            "Pytest                35\n",
            "Celery                35\n",
            "aiohttp               33\n",
            "dtype: int64\n"
          ]
        }
      ]
    },
    {
      "cell_type": "markdown",
      "metadata": {
        "id": "WwzmMIxUIoFj"
      },
      "source": [
        "#### 4. Cоставьте топ-10 городов с наибольшей средней заработной платой по вакансиям тестировщика (QA)."
      ]
    },
    {
      "cell_type": "code",
      "execution_count": null,
      "metadata": {
        "id": "5YjRyZZqIoFk",
        "colab": {
          "base_uri": "https://localhost:8080/"
        },
        "outputId": "1a5a853c-2b4a-4fc0-c1ad-5bbcf8f712d3"
      },
      "outputs": [
        {
          "output_type": "stream",
          "name": "stdout",
          "text": [
            "Топ-10 городов: \n",
            "                   salary_from\n",
            "area                          \n",
            "Тамбов           150000.000000\n",
            "Санкт-Петербург  122666.666667\n",
            "Москва           119459.603333\n",
            "Брянск           110000.000000\n",
            "Димитровград     110000.000000\n",
            "Краснодар        110000.000000\n",
            "Нижний Новгород  110000.000000\n",
            "Новосибирск      110000.000000\n",
            "Ростов-на-Дону   110000.000000\n",
            "Самара           110000.000000\n"
          ]
        }
      ],
      "source": [
        "data_qa = data[\n",
        "    data['vacancy'].str.contains('QA') | data['vacancy'].str.contains('тест') | data['vacancy'].str.contains('Тест')]\n",
        "top_area = data_qa.groupby(data_qa['area']).agg({'salary_from': 'mean'})\n",
        "top = top_area.sort_values(by='salary_from', ascending=False).head(10)\n",
        "print(f\"Топ-10 городов: \\n{top}\")"
      ]
    },
    {
      "cell_type": "markdown",
      "metadata": {
        "id": "FJjeFXg8IoFl"
      },
      "source": [
        "#### 5. Напишите функцию для поиска вакансий по переданным в нее значениям заработной платы, наличия тестового задания, наличия заданного текста в наименовании вакансии, наличия заданного навыка. В результате выведите количество найденных вакансий, среднюю заработную плату по найденным вакансиям и список ссылок найденных вакансий."
      ]
    },
    {
      "cell_type": "code",
      "execution_count": null,
      "metadata": {
        "id": "lPxV9WfUIoFl",
        "colab": {
          "base_uri": "https://localhost:8080/"
        },
        "outputId": "c2930355-1649-4de6-8eec-45dcb3dd2274"
      },
      "outputs": [
        {
          "output_type": "stream",
          "name": "stdout",
          "text": [
            "Количество найденных вакансий: 12\n",
            "Средняя зарплата по найденным вакансиям: 220000.0\n",
            "Список ссылок найденных вакансий:\n",
            "1 https://hh.ru/applicant/vacancy_response?vacancyId=46106059\n",
            "2 https://hh.ru/applicant/vacancy_response?vacancyId=46582876\n",
            "3 https://hh.ru/applicant/vacancy_response?vacancyId=45654903\n",
            "4 https://hh.ru/applicant/vacancy_response?vacancyId=46106105\n",
            "5 https://hh.ru/applicant/vacancy_response?vacancyId=40278614\n",
            "6 https://hh.ru/applicant/vacancy_response?vacancyId=45244551\n",
            "7 https://hh.ru/applicant/vacancy_response?vacancyId=46017566\n",
            "8 https://hh.ru/applicant/vacancy_response?vacancyId=46531100\n",
            "9 https://hh.ru/applicant/vacancy_response?vacancyId=43925214\n",
            "10 https://hh.ru/applicant/vacancy_response?vacancyId=46106065\n",
            "11 https://hh.ru/applicant/vacancy_response?vacancyId=46106111\n",
            "12 https://hh.ru/applicant/vacancy_response?vacancyId=46596485\n"
          ]
        }
      ],
      "source": [
        "def search(salary_from, salary_to, has_test, text_vac, skill):\n",
        "  def_data = data[\n",
        "      (data['has_test'] == has_test) &\n",
        "      (data['vacancy'].str.contains(text_vac)) &\n",
        "      (data['skills'].str.contains(skill)) &\n",
        "      (data['salary_to'] == salary_to) &\n",
        "      (data['salary_from'] == salary_from)\n",
        "  ]\n",
        "  def_data_mean = def_data['salary_to'].mean()\n",
        "  print(f\"Количество найденных вакансий: {len(def_data['vacancy'])}\")\n",
        "  print(f\"Средняя зарплата по найденным вакансиям: {def_data_mean}\")\n",
        "  val = [i for i in range(len(def_data['vacancy']))]\n",
        "  list_of_vac = [url for url in def_data['url']]\n",
        "  print(\"Список ссылок найденных вакансий:\")\n",
        "  for i, url in enumerate(list_of_vac, start=1):\n",
        "    print(i, url)\n",
        "\n",
        "\n",
        "#Example\n",
        "search(150000.0, 220000.0, False, 'разработчик', 'Python')"
      ]
    },
    {
      "cell_type": "markdown",
      "metadata": {
        "id": "cWpAEz4DIoFl"
      },
      "source": [
        "#### *Необязательно*. Усложненный вариант - сделать атрибуты функции опциональными, чтобы иметь возможность фильтрации вакансий по любой комбинации условий."
      ]
    }
  ],
  "metadata": {
    "colab": {
      "provenance": []
    },
    "kernelspec": {
      "display_name": "Python 3 (ipykernel)",
      "language": "python",
      "name": "python3"
    },
    "language_info": {
      "codemirror_mode": {
        "name": "ipython",
        "version": 3
      },
      "file_extension": ".py",
      "mimetype": "text/x-python",
      "name": "python",
      "nbconvert_exporter": "python",
      "pygments_lexer": "ipython3",
      "version": "3.9.13"
    }
  },
  "nbformat": 4,
  "nbformat_minor": 0
}